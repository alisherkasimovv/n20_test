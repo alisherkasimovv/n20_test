{
  "nbformat": 4,
  "nbformat_minor": 0,
  "metadata": {
    "colab": {
      "provenance": [],
      "gpuType": "T4",
      "include_colab_link": true
    },
    "kernelspec": {
      "name": "python3",
      "display_name": "Python 3"
    },
    "language_info": {
      "name": "python"
    },
    "accelerator": "GPU"
  },
  "cells": [
    {
      "cell_type": "markdown",
      "metadata": {
        "id": "view-in-github",
        "colab_type": "text"
      },
      "source": [
        "<a href=\"https://colab.research.google.com/github/alisherkasimovv/n20_test/blob/main/introduction_to_gcolab.ipynb\" target=\"_parent\"><img src=\"https://colab.research.google.com/assets/colab-badge.svg\" alt=\"Open In Colab\"/></a>"
      ]
    },
    {
      "cell_type": "markdown",
      "source": [
        "# Today's topic\n",
        "\n",
        "- [How to download Anaconda](https://anaconda.com)\n",
        "- [How to use Google Colab](https://googlecolab.com)\n",
        "- How to create a Virtual Environment."
      ],
      "metadata": {
        "id": "T8Wfbb0esRh-"
      }
    },
    {
      "cell_type": "code",
      "execution_count": null,
      "metadata": {
        "id": "ei_l7fd6rspT"
      },
      "outputs": [],
      "source": [
        "name = input(\"Enter your name: \")\n",
        "\n",
        "for letter in name:\n",
        "  if letter == 's' or letter == 'a':\n",
        "    print(letter)\n"
      ]
    },
    {
      "cell_type": "code",
      "source": [
        "import numpy as np\n",
        "import pandas as pd\n",
        "import sklearn\n",
        "import matplotlib.pyplot as plt\n",
        "import seaborn as sns\n",
        "import torch\n",
        "import tensorflow as tf\n",
        "import keras\n"
      ],
      "metadata": {
        "id": "eEK2tfudyELU"
      },
      "execution_count": null,
      "outputs": []
    },
    {
      "cell_type": "code",
      "source": [
        "tf.__version__"
      ],
      "metadata": {
        "colab": {
          "base_uri": "https://localhost:8080/",
          "height": 35
        },
        "id": "TNgUlvkOzAg8",
        "outputId": "49e9e9d0-a93d-42c5-a611-ecba247eeba4"
      },
      "execution_count": null,
      "outputs": [
        {
          "output_type": "execute_result",
          "data": {
            "text/plain": [
              "'2.15.0'"
            ],
            "application/vnd.google.colaboratory.intrinsic+json": {
              "type": "string"
            }
          },
          "metadata": {},
          "execution_count": 5
        }
      ]
    },
    {
      "cell_type": "code",
      "source": [
        "np.__version__"
      ],
      "metadata": {
        "colab": {
          "base_uri": "https://localhost:8080/",
          "height": 35
        },
        "id": "AFI7Zi5LzC0r",
        "outputId": "dd61cebb-a959-4281-a75a-8683833177c5"
      },
      "execution_count": null,
      "outputs": [
        {
          "output_type": "execute_result",
          "data": {
            "text/plain": [
              "'1.25.2'"
            ],
            "application/vnd.google.colaboratory.intrinsic+json": {
              "type": "string"
            }
          },
          "metadata": {},
          "execution_count": 6
        }
      ]
    },
    {
      "cell_type": "code",
      "source": [
        "keras.__version__"
      ],
      "metadata": {
        "colab": {
          "base_uri": "https://localhost:8080/",
          "height": 35
        },
        "id": "zpezha-SzG1L",
        "outputId": "f56f2086-d6d0-449b-c058-833652f880b0"
      },
      "execution_count": null,
      "outputs": [
        {
          "output_type": "execute_result",
          "data": {
            "text/plain": [
              "'2.15.0'"
            ],
            "application/vnd.google.colaboratory.intrinsic+json": {
              "type": "string"
            }
          },
          "metadata": {},
          "execution_count": 7
        }
      ]
    },
    {
      "cell_type": "code",
      "source": [
        "torch.__version__\n"
      ],
      "metadata": {
        "colab": {
          "base_uri": "https://localhost:8080/",
          "height": 35
        },
        "id": "UUZIvKF3zR9j",
        "outputId": "68beeb7b-2cdd-4007-85fe-0df7446b0726"
      },
      "execution_count": null,
      "outputs": [
        {
          "output_type": "execute_result",
          "data": {
            "text/plain": [
              "'2.2.1+cu121'"
            ],
            "application/vnd.google.colaboratory.intrinsic+json": {
              "type": "string"
            }
          },
          "metadata": {},
          "execution_count": 9
        }
      ]
    },
    {
      "cell_type": "code",
      "source": [
        "import torch\n",
        "torch.cuda.is_available()"
      ],
      "metadata": {
        "colab": {
          "base_uri": "https://localhost:8080/"
        },
        "id": "LzLheLfJ0DHi",
        "outputId": "45bfbb62-6645-40bf-b9ca-a7c8c0463b0a"
      },
      "execution_count": null,
      "outputs": [
        {
          "output_type": "execute_result",
          "data": {
            "text/plain": [
              "True"
            ]
          },
          "metadata": {},
          "execution_count": 3
        }
      ]
    },
    {
      "cell_type": "code",
      "source": [
        "import pandas as pd\n",
        "\n",
        "files = pd.read_excel('./data/registration.xlsx')\n",
        "\n",
        "files.head()"
      ],
      "metadata": {
        "colab": {
          "base_uri": "https://localhost:8080/",
          "height": 625
        },
        "id": "FWqGu6Oy33NN",
        "outputId": "be796be9-d02b-4c3b-dce1-a5b79e0c3413"
      },
      "execution_count": null,
      "outputs": [
        {
          "output_type": "execute_result",
          "data": {
            "text/plain": [
              "                Timestamp What is your name?  \\\n",
              "0 2023-12-13 16:38:46.386     Aziz Yodgorov    \n",
              "1 2023-12-13 17:13:51.415              Shody   \n",
              "2 2023-12-13 17:36:38.606   Dawran Qidirbaev   \n",
              "3 2023-12-13 18:15:55.818   Ziyodova Guliza    \n",
              "4 2023-12-13 20:56:04.484            Sevinch   \n",
              "\n",
              "                       Where do you study?  \\\n",
              "0                             School N 109   \n",
              "1               CIC (Millat umidi school )   \n",
              "2  Tashkent State University of Economics    \n",
              "3  Toshkent State University of Economics    \n",
              "4                                  UzSWLU    \n",
              "\n",
              "       What is your username on social media?  \\\n",
              "0                           RTD71 - telegram    \n",
              "1                                     @Lazcey   \n",
              "2  Instagram: qidirbaev.d Telegram: @dawran05   \n",
              "3                                  @guliza_me   \n",
              "4                               _sevinch_1103   \n",
              "\n",
              "  Adjust your phone number in case if you don't have social media  \\\n",
              "0                                      +998909903595                \n",
              "1                                      +998937412206                \n",
              "2                                      +998952501313                \n",
              "3                                         91 9515272                \n",
              "4                                      +998934054755                \n",
              "\n",
              "   What do you think about TEDx in own perspectives?  \\\n",
              "0  First all, by being a speaker in TEDx and brin...   \n",
              "1  In this fast growing world, having access to s...   \n",
              "2  Honestly, I am a diligent, hard-working and sm...   \n",
              "3  TEDx events can be incredibly inspiring and th...   \n",
              "4  I think this is the best opportunity for stude...   \n",
              "\n",
              "                        Essay for brief explanation   \n",
              "0  \\nTitle: Harmony in Progress: Nurturing a Sust...  \n",
              "1  We are are advancing in every field at a much ...  \n",
              "2  The primary theme: The theme highlights urgent...  \n",
              "3  I appreciate the opportunity to share my persp...  \n",
              "4       People play a staple role in saving the w...  "
            ],
            "text/html": [
              "\n",
              "  <div id=\"df-d19ac59c-4d5d-47cb-8dd5-e352219483ce\" class=\"colab-df-container\">\n",
              "    <div>\n",
              "<style scoped>\n",
              "    .dataframe tbody tr th:only-of-type {\n",
              "        vertical-align: middle;\n",
              "    }\n",
              "\n",
              "    .dataframe tbody tr th {\n",
              "        vertical-align: top;\n",
              "    }\n",
              "\n",
              "    .dataframe thead th {\n",
              "        text-align: right;\n",
              "    }\n",
              "</style>\n",
              "<table border=\"1\" class=\"dataframe\">\n",
              "  <thead>\n",
              "    <tr style=\"text-align: right;\">\n",
              "      <th></th>\n",
              "      <th>Timestamp</th>\n",
              "      <th>What is your name?</th>\n",
              "      <th>Where do you study?</th>\n",
              "      <th>What is your username on social media?</th>\n",
              "      <th>Adjust your phone number in case if you don't have social media</th>\n",
              "      <th>What do you think about TEDx in own perspectives?</th>\n",
              "      <th>Essay for brief explanation</th>\n",
              "    </tr>\n",
              "  </thead>\n",
              "  <tbody>\n",
              "    <tr>\n",
              "      <th>0</th>\n",
              "      <td>2023-12-13 16:38:46.386</td>\n",
              "      <td>Aziz Yodgorov</td>\n",
              "      <td>School N 109</td>\n",
              "      <td>RTD71 - telegram</td>\n",
              "      <td>+998909903595</td>\n",
              "      <td>First all, by being a speaker in TEDx and brin...</td>\n",
              "      <td>\\nTitle: Harmony in Progress: Nurturing a Sust...</td>\n",
              "    </tr>\n",
              "    <tr>\n",
              "      <th>1</th>\n",
              "      <td>2023-12-13 17:13:51.415</td>\n",
              "      <td>Shody</td>\n",
              "      <td>CIC (Millat umidi school )</td>\n",
              "      <td>@Lazcey</td>\n",
              "      <td>+998937412206</td>\n",
              "      <td>In this fast growing world, having access to s...</td>\n",
              "      <td>We are are advancing in every field at a much ...</td>\n",
              "    </tr>\n",
              "    <tr>\n",
              "      <th>2</th>\n",
              "      <td>2023-12-13 17:36:38.606</td>\n",
              "      <td>Dawran Qidirbaev</td>\n",
              "      <td>Tashkent State University of Economics</td>\n",
              "      <td>Instagram: qidirbaev.d Telegram: @dawran05</td>\n",
              "      <td>+998952501313</td>\n",
              "      <td>Honestly, I am a diligent, hard-working and sm...</td>\n",
              "      <td>The primary theme: The theme highlights urgent...</td>\n",
              "    </tr>\n",
              "    <tr>\n",
              "      <th>3</th>\n",
              "      <td>2023-12-13 18:15:55.818</td>\n",
              "      <td>Ziyodova Guliza</td>\n",
              "      <td>Toshkent State University of Economics</td>\n",
              "      <td>@guliza_me</td>\n",
              "      <td>91 9515272</td>\n",
              "      <td>TEDx events can be incredibly inspiring and th...</td>\n",
              "      <td>I appreciate the opportunity to share my persp...</td>\n",
              "    </tr>\n",
              "    <tr>\n",
              "      <th>4</th>\n",
              "      <td>2023-12-13 20:56:04.484</td>\n",
              "      <td>Sevinch</td>\n",
              "      <td>UzSWLU</td>\n",
              "      <td>_sevinch_1103</td>\n",
              "      <td>+998934054755</td>\n",
              "      <td>I think this is the best opportunity for stude...</td>\n",
              "      <td>People play a staple role in saving the w...</td>\n",
              "    </tr>\n",
              "  </tbody>\n",
              "</table>\n",
              "</div>\n",
              "    <div class=\"colab-df-buttons\">\n",
              "\n",
              "  <div class=\"colab-df-container\">\n",
              "    <button class=\"colab-df-convert\" onclick=\"convertToInteractive('df-d19ac59c-4d5d-47cb-8dd5-e352219483ce')\"\n",
              "            title=\"Convert this dataframe to an interactive table.\"\n",
              "            style=\"display:none;\">\n",
              "\n",
              "  <svg xmlns=\"http://www.w3.org/2000/svg\" height=\"24px\" viewBox=\"0 -960 960 960\">\n",
              "    <path d=\"M120-120v-720h720v720H120Zm60-500h600v-160H180v160Zm220 220h160v-160H400v160Zm0 220h160v-160H400v160ZM180-400h160v-160H180v160Zm440 0h160v-160H620v160ZM180-180h160v-160H180v160Zm440 0h160v-160H620v160Z\"/>\n",
              "  </svg>\n",
              "    </button>\n",
              "\n",
              "  <style>\n",
              "    .colab-df-container {\n",
              "      display:flex;\n",
              "      gap: 12px;\n",
              "    }\n",
              "\n",
              "    .colab-df-convert {\n",
              "      background-color: #E8F0FE;\n",
              "      border: none;\n",
              "      border-radius: 50%;\n",
              "      cursor: pointer;\n",
              "      display: none;\n",
              "      fill: #1967D2;\n",
              "      height: 32px;\n",
              "      padding: 0 0 0 0;\n",
              "      width: 32px;\n",
              "    }\n",
              "\n",
              "    .colab-df-convert:hover {\n",
              "      background-color: #E2EBFA;\n",
              "      box-shadow: 0px 1px 2px rgba(60, 64, 67, 0.3), 0px 1px 3px 1px rgba(60, 64, 67, 0.15);\n",
              "      fill: #174EA6;\n",
              "    }\n",
              "\n",
              "    .colab-df-buttons div {\n",
              "      margin-bottom: 4px;\n",
              "    }\n",
              "\n",
              "    [theme=dark] .colab-df-convert {\n",
              "      background-color: #3B4455;\n",
              "      fill: #D2E3FC;\n",
              "    }\n",
              "\n",
              "    [theme=dark] .colab-df-convert:hover {\n",
              "      background-color: #434B5C;\n",
              "      box-shadow: 0px 1px 3px 1px rgba(0, 0, 0, 0.15);\n",
              "      filter: drop-shadow(0px 1px 2px rgba(0, 0, 0, 0.3));\n",
              "      fill: #FFFFFF;\n",
              "    }\n",
              "  </style>\n",
              "\n",
              "    <script>\n",
              "      const buttonEl =\n",
              "        document.querySelector('#df-d19ac59c-4d5d-47cb-8dd5-e352219483ce button.colab-df-convert');\n",
              "      buttonEl.style.display =\n",
              "        google.colab.kernel.accessAllowed ? 'block' : 'none';\n",
              "\n",
              "      async function convertToInteractive(key) {\n",
              "        const element = document.querySelector('#df-d19ac59c-4d5d-47cb-8dd5-e352219483ce');\n",
              "        const dataTable =\n",
              "          await google.colab.kernel.invokeFunction('convertToInteractive',\n",
              "                                                    [key], {});\n",
              "        if (!dataTable) return;\n",
              "\n",
              "        const docLinkHtml = 'Like what you see? Visit the ' +\n",
              "          '<a target=\"_blank\" href=https://colab.research.google.com/notebooks/data_table.ipynb>data table notebook</a>'\n",
              "          + ' to learn more about interactive tables.';\n",
              "        element.innerHTML = '';\n",
              "        dataTable['output_type'] = 'display_data';\n",
              "        await google.colab.output.renderOutput(dataTable, element);\n",
              "        const docLink = document.createElement('div');\n",
              "        docLink.innerHTML = docLinkHtml;\n",
              "        element.appendChild(docLink);\n",
              "      }\n",
              "    </script>\n",
              "  </div>\n",
              "\n",
              "\n",
              "<div id=\"df-bcdb1ddb-8946-4981-a3b8-81e543d62621\">\n",
              "  <button class=\"colab-df-quickchart\" onclick=\"quickchart('df-bcdb1ddb-8946-4981-a3b8-81e543d62621')\"\n",
              "            title=\"Suggest charts\"\n",
              "            style=\"display:none;\">\n",
              "\n",
              "<svg xmlns=\"http://www.w3.org/2000/svg\" height=\"24px\"viewBox=\"0 0 24 24\"\n",
              "     width=\"24px\">\n",
              "    <g>\n",
              "        <path d=\"M19 3H5c-1.1 0-2 .9-2 2v14c0 1.1.9 2 2 2h14c1.1 0 2-.9 2-2V5c0-1.1-.9-2-2-2zM9 17H7v-7h2v7zm4 0h-2V7h2v10zm4 0h-2v-4h2v4z\"/>\n",
              "    </g>\n",
              "</svg>\n",
              "  </button>\n",
              "\n",
              "<style>\n",
              "  .colab-df-quickchart {\n",
              "      --bg-color: #E8F0FE;\n",
              "      --fill-color: #1967D2;\n",
              "      --hover-bg-color: #E2EBFA;\n",
              "      --hover-fill-color: #174EA6;\n",
              "      --disabled-fill-color: #AAA;\n",
              "      --disabled-bg-color: #DDD;\n",
              "  }\n",
              "\n",
              "  [theme=dark] .colab-df-quickchart {\n",
              "      --bg-color: #3B4455;\n",
              "      --fill-color: #D2E3FC;\n",
              "      --hover-bg-color: #434B5C;\n",
              "      --hover-fill-color: #FFFFFF;\n",
              "      --disabled-bg-color: #3B4455;\n",
              "      --disabled-fill-color: #666;\n",
              "  }\n",
              "\n",
              "  .colab-df-quickchart {\n",
              "    background-color: var(--bg-color);\n",
              "    border: none;\n",
              "    border-radius: 50%;\n",
              "    cursor: pointer;\n",
              "    display: none;\n",
              "    fill: var(--fill-color);\n",
              "    height: 32px;\n",
              "    padding: 0;\n",
              "    width: 32px;\n",
              "  }\n",
              "\n",
              "  .colab-df-quickchart:hover {\n",
              "    background-color: var(--hover-bg-color);\n",
              "    box-shadow: 0 1px 2px rgba(60, 64, 67, 0.3), 0 1px 3px 1px rgba(60, 64, 67, 0.15);\n",
              "    fill: var(--button-hover-fill-color);\n",
              "  }\n",
              "\n",
              "  .colab-df-quickchart-complete:disabled,\n",
              "  .colab-df-quickchart-complete:disabled:hover {\n",
              "    background-color: var(--disabled-bg-color);\n",
              "    fill: var(--disabled-fill-color);\n",
              "    box-shadow: none;\n",
              "  }\n",
              "\n",
              "  .colab-df-spinner {\n",
              "    border: 2px solid var(--fill-color);\n",
              "    border-color: transparent;\n",
              "    border-bottom-color: var(--fill-color);\n",
              "    animation:\n",
              "      spin 1s steps(1) infinite;\n",
              "  }\n",
              "\n",
              "  @keyframes spin {\n",
              "    0% {\n",
              "      border-color: transparent;\n",
              "      border-bottom-color: var(--fill-color);\n",
              "      border-left-color: var(--fill-color);\n",
              "    }\n",
              "    20% {\n",
              "      border-color: transparent;\n",
              "      border-left-color: var(--fill-color);\n",
              "      border-top-color: var(--fill-color);\n",
              "    }\n",
              "    30% {\n",
              "      border-color: transparent;\n",
              "      border-left-color: var(--fill-color);\n",
              "      border-top-color: var(--fill-color);\n",
              "      border-right-color: var(--fill-color);\n",
              "    }\n",
              "    40% {\n",
              "      border-color: transparent;\n",
              "      border-right-color: var(--fill-color);\n",
              "      border-top-color: var(--fill-color);\n",
              "    }\n",
              "    60% {\n",
              "      border-color: transparent;\n",
              "      border-right-color: var(--fill-color);\n",
              "    }\n",
              "    80% {\n",
              "      border-color: transparent;\n",
              "      border-right-color: var(--fill-color);\n",
              "      border-bottom-color: var(--fill-color);\n",
              "    }\n",
              "    90% {\n",
              "      border-color: transparent;\n",
              "      border-bottom-color: var(--fill-color);\n",
              "    }\n",
              "  }\n",
              "</style>\n",
              "\n",
              "  <script>\n",
              "    async function quickchart(key) {\n",
              "      const quickchartButtonEl =\n",
              "        document.querySelector('#' + key + ' button');\n",
              "      quickchartButtonEl.disabled = true;  // To prevent multiple clicks.\n",
              "      quickchartButtonEl.classList.add('colab-df-spinner');\n",
              "      try {\n",
              "        const charts = await google.colab.kernel.invokeFunction(\n",
              "            'suggestCharts', [key], {});\n",
              "      } catch (error) {\n",
              "        console.error('Error during call to suggestCharts:', error);\n",
              "      }\n",
              "      quickchartButtonEl.classList.remove('colab-df-spinner');\n",
              "      quickchartButtonEl.classList.add('colab-df-quickchart-complete');\n",
              "    }\n",
              "    (() => {\n",
              "      let quickchartButtonEl =\n",
              "        document.querySelector('#df-bcdb1ddb-8946-4981-a3b8-81e543d62621 button');\n",
              "      quickchartButtonEl.style.display =\n",
              "        google.colab.kernel.accessAllowed ? 'block' : 'none';\n",
              "    })();\n",
              "  </script>\n",
              "</div>\n",
              "\n",
              "    </div>\n",
              "  </div>\n"
            ],
            "application/vnd.google.colaboratory.intrinsic+json": {
              "type": "dataframe",
              "variable_name": "files",
              "summary": "{\n  \"name\": \"files\",\n  \"rows\": 62,\n  \"fields\": [\n    {\n      \"column\": \"Timestamp\",\n      \"properties\": {\n        \"dtype\": \"date\",\n        \"min\": \"2023-12-13 16:38:46.386000\",\n        \"max\": \"2023-12-20 21:59:39.029000\",\n        \"num_unique_values\": 62,\n        \"samples\": [\n          \"2023-12-20 21:03:32.898000\",\n          \"2023-12-20 21:49:10.352000\",\n          \"2023-12-13 16:38:46.386000\"\n        ],\n        \"semantic_type\": \"\",\n        \"description\": \"\"\n      }\n    },\n    {\n      \"column\": \"What is your name?\",\n      \"properties\": {\n        \"dtype\": \"string\",\n        \"num_unique_values\": 62,\n        \"samples\": [\n          \"Abduaziz\",\n          \"Mahbuba \",\n          \"Aziz Yodgorov \"\n        ],\n        \"semantic_type\": \"\",\n        \"description\": \"\"\n      }\n    },\n    {\n      \"column\": \"Where do you study?\",\n      \"properties\": {\n        \"dtype\": \"string\",\n        \"num_unique_values\": 50,\n        \"samples\": [\n          \"UWED\",\n          \"Uzbekistan State World Languages University\",\n          \"18th public School \"\n        ],\n        \"semantic_type\": \"\",\n        \"description\": \"\"\n      }\n    },\n    {\n      \"column\": \"What is your username on social media?\",\n      \"properties\": {\n        \"dtype\": \"string\",\n        \"num_unique_values\": 62,\n        \"samples\": [\n          \"ig & tg: khusanovv_770\",\n          \"Telegram:@Maxbuba_mardonova      Instagram: maxbuba_0106\",\n          \"RTD71 - telegram \"\n        ],\n        \"semantic_type\": \"\",\n        \"description\": \"\"\n      }\n    },\n    {\n      \"column\": \"Adjust your phone number in case if you don't have social media\",\n      \"properties\": {\n        \"dtype\": \"string\",\n        \"num_unique_values\": 61,\n        \"samples\": [\n          \"+998909903595\",\n          \"90 922 36 38 \",\n          \"+998945141302\"\n        ],\n        \"semantic_type\": \"\",\n        \"description\": \"\"\n      }\n    },\n    {\n      \"column\": \"What do you think about TEDx in own perspectives?\",\n      \"properties\": {\n        \"dtype\": \"string\",\n        \"num_unique_values\": 62,\n        \"samples\": [\n          \"For me TEDx shares bright ideas and connects like-minded individuals through inspiring talks.\",\n          \"\\nI have already watched many episodes of Tedx to improve my speaking and comprehension skills, and my language skills have improved significantly.\\nIt has been very beneficial for me to understand Tedx himself, and the purpose of my participation in this project is to gather information on the topic and enlighten the audience with the necessary ideas. In this way, it is much easier to create solutions to global problems. Also, making a speech at Tedx greatly improves the speaker's confidence and ability to explain, because during the exposure, no one will interrupt your speech and deny or reject it, which will create an opportunity for you to explain more freely and in detail.\",\n          \"First all, by being a speaker in TEDx and bringing creative, rare ideas that could upgrade  audience's creative and critical thinking, giving them a food for thought by many different and unique ways. It's not only about providing facts, but also about changing people's mindset, that they could have been mistaken about specific topics, and making them take important game - changing actions.\"\n        ],\n        \"semantic_type\": \"\",\n        \"description\": \"\"\n      }\n    },\n    {\n      \"column\": \"Essay for brief explanation \",\n      \"properties\": {\n        \"dtype\": \"string\",\n        \"num_unique_values\": 62,\n        \"samples\": [\n          \"TEDxTSUE discussions on environmental contamination, loss of \\\"Green Zones,\\\" species extinction, and climate change ignited a personal commitment. The insights gained have fueled my dedication to adopting sustainable practices in daily life and advocating for environmental conservation.\\n\\nThe event's spotlight on \\\"Urbanization\\\" underscored the importance of a symbiotic relationship between progress and nature. I advocate for sustainable urban development that preserves the delicate balance of our environment.\\n\\nTEDxTSUE's focus on education resonates with my belief in its power to shape environmentally conscious individuals, encourage critical thinking, and inspire innovative solutions.\\n\\nMy educational journey began in school, excelling academically and discovering the transformative power of learning English. English opened my eyes to accurate information, especially on global issues like climate change. Motivated to empower others, I initiated the \\\"Why Podcast\\\" project in Uzbekistan. It aims to create an English-language space in Uzbek social media, while preserving our cultural values. Many young Uzbeks consume English content for language learning, but I believe meaningful content is crucial. With over 7 years in this field, recognizing the challenge of English learners in Uzbekistan, where useful content is limited, the podcast offers an engaging platform for learning. About guests, since now we've had a podcast with Asalkhon (Ann founder of \\\"Swap-up\\\") and Mr. Jakhongir (IELTS niner). Yesterday we've talked with Mr. Bill (Biloliddin) Head Organizer of TEDxTSUE and winner of President Tech Award, about the podcast.  \\n\\nLinks of \\\"Why Podcast\\\"\\nYou tube: https://www.youtube.com/channel/UCHNHd3ZPG_mX9eRnVUxXvnw\\nInstagram: https://www.instagram.com/whypodcastuz/\\nTelegram: https://t.me/whypodcastuz\",\n          \"In this project, I would like to tell Nature about the equipment that should be implemented in Uzbekistan to maintain ecological cleanliness.\\nThrough this equipment, the environment will be cleaned of plastic products, and people's lives will be made easier, and the number of jobs will be created.\\nNow, if I explain about the equipment, the equipment should be installed mainly around stations, shops, crowded places. Its main function is to receive and press plastic products. People throw 0.5/1.0/1.5 liter bottles to him and can get money or a ticket. It is an incentive for people and nature.\",\n          \"\\nTitle: Harmony in Progress: Nurturing a Sustainable Future\\n\\nI. Environmental Stewardship: Preserving Nature's Fragile Balance\\nAs we navigate the challenges of the 21st century, the urgency of addressing environmental degradation becomes increasingly apparent. TEDxTSUE's theme, \\\"Global Issues under Overexploitation of the Natural Environment,\\\" resonates deeply with my commitment to combat environmental contamination, protect vanishing \\\"Green Zones,\\\" combat mass species extinction, and mitigate the ominous effects of climate change.\\n\\nII. Balancing Progress: Urbanization Aligned with Nature's Blueprint\\nWhile recognizing the importance of global infrastructures and advancements in education, I believe urbanization should be a harmonious dance with nature. Advocating for sustainable urban development is paramount, where progress aligns with the preservation of our natural environment. This perspective encompasses the essential need for a balanced coexistence between human innovation and the ecosystems we inhabit.\\n\\nIII. Education as a Catalyst: Fostering Environmental Guardians\\nEducation stands as a powerful catalyst in the pursuit of environmental preservation. My personal statement delves into the intricate role of education, not merely as a conduit for knowledge transfer, but as a driving force behind original thought and sustainable practices. Administrative support becomes pivotal in nurturing minds that are not just informed but inspired to become stewards of our planet.\\n\\nIV. Life's Tapestry: Weaving Science, Engineering, Psychology, and Education\\nReflecting on my life experiences, I draw connections across science, engineering, psychology, education, and innovation. From navigating the intricate complexities of scientific inquiry to employing engineering principles for sustainable solutions, my journey encompasses a multifaceted approach. The tapestry of my experiences is interwoven with psychological insights, shaping a holistic perspective that extends into the realm of education and innovation.\\n\\nIn conclusion, TEDxTSUE's overarching theme serves as a guiding principle in my personal and professional pursuits. Through a commitment to environmental stewardship, harmonious urbanization, transformative education, and a holistic approach to life's experiences, I aspire to contribute meaningfully to a future where humanity coexists sustainably with the natural world.\"\n        ],\n        \"semantic_type\": \"\",\n        \"description\": \"\"\n      }\n    }\n  ]\n}"
            }
          },
          "metadata": {},
          "execution_count": 1
        }
      ]
    }
  ]
}